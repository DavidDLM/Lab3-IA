{
 "cells": [
  {
   "cell_type": "code",
   "execution_count": 264,
   "id": "b0d400bd",
   "metadata": {},
   "outputs": [],
   "source": [
    "# Import libraries\n",
    "import numpy as np\n",
    "import matplotlib.pyplot as plt\n",
    "from sklearn.model_selection import train_test_split\n",
    "from sklearn.preprocessing import PolynomialFeatures\n",
    "from sklearn.linear_model import LinearRegression\n",
    "from sklearn.metrics import mean_squared_error\n",
    "from sklearn.preprocessing import StandardScaler\n",
    "from sklearn.model_selection import cross_val_score\n",
    "import pandas as pd\n",
    "import seaborn as sns"
   ]
  },
  {
   "cell_type": "code",
   "execution_count": 122,
   "id": "28a31029",
   "metadata": {},
   "outputs": [],
   "source": [
    "# Save data in array\n",
    "with open(\"kc_house_data.csv\") as file_name:\n",
    "    df = pd.read_csv(file_name, encoding=\"latin1\")"
   ]
  },
  {
   "cell_type": "code",
   "execution_count": 123,
   "id": "d2b57d77",
   "metadata": {},
   "outputs": [],
   "source": [
    "'''\n",
    "Total variables:\n",
    "id,date,price,bedrooms,bathrooms,sqft_living,sqft_lot,floors,waterfront,\n",
    "view,condition,grade,sqft_above,sqft_basement,yr_built,yr_renovated,\n",
    "zipcode,lat,long,sqft_living15,sqft_lot15\n",
    "\n",
    "Variables needed: price, sqft_living\n",
    "'''\n",
    "# Price without NaN, price is column index 2.\n",
    "# https://stackoverflow.com/questions/11620914/how-do-i-remove-nan-values-from-a-numpy-array\n",
    "df = df.dropna(subset=['price'])\n",
    "\n",
    "# Sqft_living without NaN, var is column index 5\n",
    "df = df.dropna(subset=['sqft_living'])\n",
    "\n",
    "# Save data in an array\n",
    "df_array = df.values"
   ]
  },
  {
   "cell_type": "code",
   "execution_count": 124,
   "id": "b60304e6",
   "metadata": {},
   "outputs": [
    {
     "data": {
      "text/plain": [
       "array([221900.0, 538000.0, 180000.0, ..., 402101.0, 400000.0, 325000.0],\n",
       "      dtype=object)"
      ]
     },
     "execution_count": 124,
     "metadata": {},
     "output_type": "execute_result"
    }
   ],
   "source": [
    "# Price without NaN\n",
    "df_array[:,2]"
   ]
  },
  {
   "cell_type": "code",
   "execution_count": 125,
   "id": "c98b4d96",
   "metadata": {},
   "outputs": [
    {
     "data": {
      "text/plain": [
       "array([1180, 2570, 770, ..., 1020, 1600, 1020], dtype=object)"
      ]
     },
     "execution_count": 125,
     "metadata": {},
     "output_type": "execute_result"
    }
   ],
   "source": [
    "# Sqft_living without NaN\n",
    "df_array[:,5]"
   ]
  },
  {
   "cell_type": "code",
   "execution_count": 129,
   "id": "caf43cec",
   "metadata": {},
   "outputs": [],
   "source": [
    "# Columns to variables. Y is dependent variable. X is independent variable.\n",
    "# Numpy reshape into 2D to represent columns where -1 infers the size of the new dimension from the size of the input array.\n",
    "# Use one column\n",
    "ncols = 1\n",
    "# Use unknown rows (value -1) so output is similar to\n",
    "'''\n",
    "z.reshape(-1,1)\n",
    "array([[ 1],\n",
    "   [ 2],\n",
    "   [ 3],\n",
    "   [ 4],\n",
    "   [ 5],\n",
    "   [ 6],\n",
    "   [ 7],\n",
    "   [ 8],\n",
    "   [ 9],\n",
    "   [10],\n",
    "   [11],\n",
    "   [12]])\n",
    "\n",
    "'''\n",
    "nrows = -1\n",
    "price = df_array[:,2].astype(int).reshape(nrows,ncols)\n",
    "sqft_living = df_array[:,5].astype(str).astype(int).reshape(nrows,ncols)"
   ]
  },
  {
   "cell_type": "code",
   "execution_count": 130,
   "id": "a88f6ec5",
   "metadata": {},
   "outputs": [],
   "source": [
    "# Training variables\n",
    "sqft_train, sqft_test, price_train, price_test = train_test_split(sqft_living, price, test_size=0.2, random_state=42)"
   ]
  },
  {
   "cell_type": "code",
   "execution_count": 131,
   "id": "968769ee",
   "metadata": {},
   "outputs": [],
   "source": [
    "# Create linear regression model\n",
    "model = LinearRegression()"
   ]
  },
  {
   "cell_type": "code",
   "execution_count": 132,
   "id": "16dd0ed3",
   "metadata": {},
   "outputs": [
    {
     "data": {
      "text/html": [
       "<style>#sk-container-id-3 {color: black;background-color: white;}#sk-container-id-3 pre{padding: 0;}#sk-container-id-3 div.sk-toggleable {background-color: white;}#sk-container-id-3 label.sk-toggleable__label {cursor: pointer;display: block;width: 100%;margin-bottom: 0;padding: 0.3em;box-sizing: border-box;text-align: center;}#sk-container-id-3 label.sk-toggleable__label-arrow:before {content: \"▸\";float: left;margin-right: 0.25em;color: #696969;}#sk-container-id-3 label.sk-toggleable__label-arrow:hover:before {color: black;}#sk-container-id-3 div.sk-estimator:hover label.sk-toggleable__label-arrow:before {color: black;}#sk-container-id-3 div.sk-toggleable__content {max-height: 0;max-width: 0;overflow: hidden;text-align: left;background-color: #f0f8ff;}#sk-container-id-3 div.sk-toggleable__content pre {margin: 0.2em;color: black;border-radius: 0.25em;background-color: #f0f8ff;}#sk-container-id-3 input.sk-toggleable__control:checked~div.sk-toggleable__content {max-height: 200px;max-width: 100%;overflow: auto;}#sk-container-id-3 input.sk-toggleable__control:checked~label.sk-toggleable__label-arrow:before {content: \"▾\";}#sk-container-id-3 div.sk-estimator input.sk-toggleable__control:checked~label.sk-toggleable__label {background-color: #d4ebff;}#sk-container-id-3 div.sk-label input.sk-toggleable__control:checked~label.sk-toggleable__label {background-color: #d4ebff;}#sk-container-id-3 input.sk-hidden--visually {border: 0;clip: rect(1px 1px 1px 1px);clip: rect(1px, 1px, 1px, 1px);height: 1px;margin: -1px;overflow: hidden;padding: 0;position: absolute;width: 1px;}#sk-container-id-3 div.sk-estimator {font-family: monospace;background-color: #f0f8ff;border: 1px dotted black;border-radius: 0.25em;box-sizing: border-box;margin-bottom: 0.5em;}#sk-container-id-3 div.sk-estimator:hover {background-color: #d4ebff;}#sk-container-id-3 div.sk-parallel-item::after {content: \"\";width: 100%;border-bottom: 1px solid gray;flex-grow: 1;}#sk-container-id-3 div.sk-label:hover label.sk-toggleable__label {background-color: #d4ebff;}#sk-container-id-3 div.sk-serial::before {content: \"\";position: absolute;border-left: 1px solid gray;box-sizing: border-box;top: 0;bottom: 0;left: 50%;z-index: 0;}#sk-container-id-3 div.sk-serial {display: flex;flex-direction: column;align-items: center;background-color: white;padding-right: 0.2em;padding-left: 0.2em;position: relative;}#sk-container-id-3 div.sk-item {position: relative;z-index: 1;}#sk-container-id-3 div.sk-parallel {display: flex;align-items: stretch;justify-content: center;background-color: white;position: relative;}#sk-container-id-3 div.sk-item::before, #sk-container-id-3 div.sk-parallel-item::before {content: \"\";position: absolute;border-left: 1px solid gray;box-sizing: border-box;top: 0;bottom: 0;left: 50%;z-index: -1;}#sk-container-id-3 div.sk-parallel-item {display: flex;flex-direction: column;z-index: 1;position: relative;background-color: white;}#sk-container-id-3 div.sk-parallel-item:first-child::after {align-self: flex-end;width: 50%;}#sk-container-id-3 div.sk-parallel-item:last-child::after {align-self: flex-start;width: 50%;}#sk-container-id-3 div.sk-parallel-item:only-child::after {width: 0;}#sk-container-id-3 div.sk-dashed-wrapped {border: 1px dashed gray;margin: 0 0.4em 0.5em 0.4em;box-sizing: border-box;padding-bottom: 0.4em;background-color: white;}#sk-container-id-3 div.sk-label label {font-family: monospace;font-weight: bold;display: inline-block;line-height: 1.2em;}#sk-container-id-3 div.sk-label-container {text-align: center;}#sk-container-id-3 div.sk-container {/* jupyter's `normalize.less` sets `[hidden] { display: none; }` but bootstrap.min.css set `[hidden] { display: none !important; }` so we also need the `!important` here to be able to override the default hidden behavior on the sphinx rendered scikit-learn.org. See: https://github.com/scikit-learn/scikit-learn/issues/21755 */display: inline-block !important;position: relative;}#sk-container-id-3 div.sk-text-repr-fallback {display: none;}</style><div id=\"sk-container-id-3\" class=\"sk-top-container\"><div class=\"sk-text-repr-fallback\"><pre>LinearRegression()</pre><b>In a Jupyter environment, please rerun this cell to show the HTML representation or trust the notebook. <br />On GitHub, the HTML representation is unable to render, please try loading this page with nbviewer.org.</b></div><div class=\"sk-container\" hidden><div class=\"sk-item\"><div class=\"sk-estimator sk-toggleable\"><input class=\"sk-toggleable__control sk-hidden--visually\" id=\"sk-estimator-id-3\" type=\"checkbox\" checked><label for=\"sk-estimator-id-3\" class=\"sk-toggleable__label sk-toggleable__label-arrow\">LinearRegression</label><div class=\"sk-toggleable__content\"><pre>LinearRegression()</pre></div></div></div></div></div>"
      ],
      "text/plain": [
       "LinearRegression()"
      ]
     },
     "execution_count": 132,
     "metadata": {},
     "output_type": "execute_result"
    }
   ],
   "source": [
    "# Fit model\n",
    "model.fit(sqft_train, price_train)"
   ]
  },
  {
   "cell_type": "code",
   "execution_count": 204,
   "id": "2cb821f3",
   "metadata": {},
   "outputs": [],
   "source": [
    "# R2, intercept, coeficient from adjusted model\n",
    "r_squared = model.score(sqft_living, price) \n",
    "intercept = model.intercept_\n",
    "coef = model.coef_[0]\n",
    "\n",
    "# We can predict using model\n",
    "y_pred = model.predict(sqft_test)\n",
    "\n",
    "# Create a value range for X\n",
    "x_range = np.linspace(sqft_living.min(), sqft_living.max(), 100).reshape(-1, 1)\n",
    "\n",
    "# Create a value range for Y\n",
    "y_range = coef * x_range + intercept"
   ]
  },
  {
   "cell_type": "code",
   "execution_count": 205,
   "id": "e064405c",
   "metadata": {},
   "outputs": [
    {
     "data": {
      "text/plain": [
       "Text(0, 0.5, 'price')"
      ]
     },
     "execution_count": 205,
     "metadata": {},
     "output_type": "execute_result"
    },
    {
     "data": {
      "image/png": "[encoded data removed]",
      "text/plain": [
       "<Figure size 640x480 with 1 Axes>"
      ]
     },
     "metadata": {},
     "output_type": "display_data"
    }
   ],
   "source": [
    "# Graph for better visualization\n",
    "plt.scatter(sqft_living, price, color = '#88c999')\n",
    "plt.plot(x_range, y_range, color='red')\n",
    "plt.xlabel('sqft_living')\n",
    "plt.ylabel('price')"
   ]
  },
  {
   "cell_type": "code",
   "execution_count": 207,
   "id": "78fac067",
   "metadata": {},
   "outputs": [
    {
     "name": "stdout",
     "output_type": "stream",
     "text": [
      "Model summary:\n",
      "--------------------\n",
      "Intercept: [-41999.19]\n",
      "Coeficient: [ 279.55]\n",
      "R^2: 0.49\n",
      "\n"
     ]
    }
   ],
   "source": [
    "# Model summary\n",
    "print(\"Model summary:\")\n",
    "print(\"--------------------\")\n",
    "np.set_printoptions(formatter={'float': '{: 0.2f}'.format})\n",
    "print(f\"Intercept: {intercept}\")\n",
    "print(f\"Coeficient: {coef}\")\n",
    "print(f\"R^2: {round(r_squared, 2)}\")\n",
    "print()"
   ]
  },
  {
   "cell_type": "code",
   "execution_count": 208,
   "id": "58a11c24",
   "metadata": {},
   "outputs": [],
   "source": [
    "# Integer arrays\n",
    "price = price.astype(int)\n",
    "sqft_living = sqft_living.astype(str).astype(int)"
   ]
  },
  {
   "cell_type": "code",
   "execution_count": 209,
   "id": "ad900b3e",
   "metadata": {},
   "outputs": [
    {
     "data": {
      "text/plain": [
       "(21613, 1)"
      ]
     },
     "execution_count": 209,
     "metadata": {},
     "output_type": "execute_result"
    }
   ],
   "source": [
    "price.shape"
   ]
  },
  {
   "cell_type": "code",
   "execution_count": 210,
   "id": "434061f2",
   "metadata": {},
   "outputs": [
    {
     "data": {
      "text/plain": [
       "(21613, 1)"
      ]
     },
     "execution_count": 210,
     "metadata": {},
     "output_type": "execute_result"
    }
   ],
   "source": [
    "sqft_living.shape"
   ]
  },
  {
   "cell_type": "code",
   "execution_count": 211,
   "id": "ad347348",
   "metadata": {},
   "outputs": [],
   "source": [
    "# Scaler object\n",
    "scaler = StandardScaler()\n",
    "\n",
    "# Normalize data\n",
    "# After applying StandardScaler, the scaled data will have a mean of zero and a standard deviation of one\n",
    "normalized_sqft = np.ones((sqft_living.shape[0], 1))\n",
    "\n",
    "# Here, we create an instance of StandardScaler and then use the fit_transform method to apply the transformation to the original data. \n",
    "# The fit_transform method fits the scaler to the data and then transforms the data in one step.\n",
    "normalized_sqft = np.hstack((normalized_sqft, scaler.fit_transform(sqft_living)))"
   ]
  },
  {
   "cell_type": "code",
   "execution_count": 220,
   "id": "17422eb3",
   "metadata": {},
   "outputs": [],
   "source": [
    "# Theta: gradient descent\n",
    "# It is common practice to start with a small alpha (e.g. 0.01) and gradually increase it \n",
    "# until the convergence rate starts to slow down or the updates become unstable.\n",
    "# A common approach is to start with a relatively large number of iterations (e.g. 1000) \n",
    "# and monitor the cost function at each iteration.\n",
    "def gradient_descent(X, y, alpha = 0.01, iterations = 1000):\n",
    "    \"\"\"\n",
    "    Performs gradient descent to learn the optimal values of theta\n",
    "    :param X: the feature matrix\n",
    "    :param y: the target values\n",
    "    :param alpha: the learning rate\n",
    "    :param iterations: the number of iterations to perform\n",
    "    :return: the learned values of theta\n",
    "    \"\"\"\n",
    "    m, n = X.shape\n",
    "    theta = np.zeros((X.shape[1], 1))\n",
    "    for i in range(iterations):\n",
    "        # Calculate the predicted values for the current values of theta\n",
    "        h = np.dot(X, theta)\n",
    "        # Calculate the error (difference between predicted and actual values)\n",
    "        error = h - y\n",
    "        # Calculate the gradient (partial derivative of the cost function)\n",
    "        gradient = X.T.dot(error) / m\n",
    "        # Update theta by taking a step in the opposite direction of the gradient\n",
    "        theta -= alpha * gradient\n",
    "    return theta\n",
    "\n",
    "# Normalize 2D numpy array, use the axis \n",
    "# argument to specify which axis to normalize or standardize along. \n",
    "def normalize_arr(base, target):\n",
    "    X_normalized = (target - np.mean(base, axis=0)) / np.std(base, axis=0)\n",
    "    return X_normalized\n",
    "\n",
    "# Note that the input arr must have at least 2 dimensions \n",
    "# for standardization to make sense.\n",
    "def standardize_arr(arr):\n",
    "    # Add a column of ones to the standardized array\n",
    "    X_std = np.hstack((np.ones((arr.shape[0], 1)), arr))\n",
    "    return X_std"
   ]
  },
  {
   "cell_type": "code",
   "execution_count": 221,
   "id": "5898aa31",
   "metadata": {},
   "outputs": [],
   "source": [
    "# Theta value\n",
    "theta = gradient_descent(normalized_sqft, price)\n",
    "prices_pred = np.array([])\n",
    "\n",
    "for i in sqft_train:\n",
    "    # print(i)\n",
    "    sl_pred = np.array([i])\n",
    "    sl_pred = normalize_arr(sqft_living, sl_pred)\n",
    "    sl_pred = standardize_arr(sl_pred.astype(float))\n",
    "    price_pred = np.dot(sl_pred, theta)\n",
    "    prices_pred = np.append(prices_pred, price_pred[0])\n",
    "\n",
    "# Reshape arrays into (-1, 1)\n",
    "y_pred = prices_pred.reshape(-1, 1)\n",
    "np.set_printoptions(formatter={'float': '{: 0.2f}'.format})\n",
    "y_test = price_test.reshape(-1, 1)"
   ]
  },
  {
   "cell_type": "code",
   "execution_count": 222,
   "id": "055dccc2",
   "metadata": {},
   "outputs": [
    {
     "name": "stdout",
     "output_type": "stream",
     "text": [
      "Predictions vs Real prices:\n",
      "-----------------------------\n",
      "Prediction: [ 455909.52], Real price: [365000]\n",
      "Prediction: [ 237032.59], Real price: [865000]\n",
      "Prediction: [ 259481.51], Real price: [1038000]\n",
      "Prediction: [ 542899.08], Real price: [1490000]\n",
      "Prediction: [ 444965.68], Real price: [711000]\n",
      "Prediction: [ 613051.94], Real price: [211000]\n",
      "Prediction: [ 528868.50], Real price: [790000]\n",
      "Prediction: [ 888051.16], Real price: [680000]\n",
      "Prediction: [ 450297.30], Real price: [384500]\n",
      "Prediction: [ 408205.58], Real price: [605000]\n"
     ]
    }
   ],
   "source": [
    "# Print the first few values predicted vs real\n",
    "print(\"Predictions vs Real prices:\")\n",
    "print(\"-----------------------------\")\n",
    "for i in range(10):\n",
    "    print(f\"Prediction: {y_pred[i]}, Real price: {y_test[i]}\")"
   ]
  },
  {
   "cell_type": "code",
   "execution_count": 215,
   "id": "b212dc36",
   "metadata": {},
   "outputs": [],
   "source": [
    "# Create a value range for X\n",
    "x_range = np.linspace(sqft_train.min(), sqft_train.max(), len(sqft_train))\n",
    "\n",
    "# Create a value range for Y\n",
    "y_range = np.sort(prices_pred)"
   ]
  },
  {
   "cell_type": "code",
   "execution_count": 217,
   "id": "2b04d729",
   "metadata": {},
   "outputs": [
    {
     "data": {
      "text/plain": [
       "Text(0, 0.5, 'price')"
      ]
     },
     "execution_count": 217,
     "metadata": {},
     "output_type": "execute_result"
    },
    {
     "data": {
      "image/png": "[encoded data removed]",
      "text/plain": [
       "<Figure size 640x480 with 1 Axes>"
      ]
     },
     "metadata": {},
     "output_type": "display_data"
    }
   ],
   "source": [
    "# Graph for better visualization\n",
    "plt.scatter(x=sqft_train, y=price_train, color = '#88c999')\n",
    "plt.plot(x_range, y_range, color='red', label='regresion')\n",
    "plt.xlabel('sqft living')\n",
    "plt.ylabel('price')"
   ]
  },
  {
   "cell_type": "code",
   "execution_count": 273,
   "id": "f3e5963a",
   "metadata": {},
   "outputs": [],
   "source": [
    "# Save R2 values after polynomial features test\n",
    "r_squared_values = []\n",
    "\n",
    "# Training variables\n",
    "# sqft_train, sqft_test, price_train, price_test = train_test_split(sqft_living, price, test_size=0.2, random_state=42)\n",
    "\n",
    "# X, y data\n",
    "X = sqft_living.reshape(-1, 1)\n",
    "y = price.reshape(-1, 1)\n",
    "\n",
    "# Define the degrees of the polynomial models to fit\n",
    "degrees = [1, 2, 3, 4, 5, 6, 7, 8]\n",
    "\n",
    "for degree in degrees:\n",
    "    poly = PolynomialFeatures(degree=degree)\n",
    "    X_train_poly = poly.fit_transform(sqft_train)\n",
    "    model = LinearRegression()\n",
    "    model.fit(X_train_poly, price_train)\n",
    "    \n",
    "    # Evaluate the model on the validation set using MSE\n",
    "    X_val_poly = poly.transform(sqft_test)\n",
    "    y_val_pred = model.predict(X_val_poly)\n",
    "    mse = mean_squared_error(price_test, y_val_pred)\n",
    "    r_squared_values.append(mse)\n",
    "\n",
    "# Find the degree of the model with the lowest MSE\n",
    "best_degree = degrees[np.argmin(r_squared_values)]\n"
   ]
  },
  {
   "cell_type": "code",
   "execution_count": 274,
   "id": "b0b675a8",
   "metadata": {},
   "outputs": [],
   "source": [
    "# Note that a higher degree polynomial will generally fit the data better, \n",
    "# but may also overfit the data and not generalize well to new data. \n",
    "# Therefore, it is important to balance model complexity with \n",
    "# generalization performance.\n",
    "def Sort(sub_li):\n",
    "    # reverse = None (Sorts in Ascending order)\n",
    "    # key is set to sort using second element of\n",
    "    # sublist lambda has been used\n",
    "    sub_li.sort(key = lambda x: x[1], reverse = True)\n",
    "    return sub_li"
   ]
  },
  {
   "cell_type": "code",
   "execution_count": 275,
   "id": "cd9549dc",
   "metadata": {},
   "outputs": [
    {
     "name": "stdout",
     "output_type": "stream",
     "text": [
      "Best polynomial fit:\n",
      "-----------------------------\n",
      "Best polynomial fit has degree of: 6\n"
     ]
    }
   ],
   "source": [
    "print(\"Best polynomial fit:\")\n",
    "print(\"-----------------------------\")\n",
    "print(\"Best polynomial fit has degree of:\", best_degree)"
   ]
  },
  {
   "cell_type": "code",
   "execution_count": 281,
   "id": "e748b53e",
   "metadata": {},
   "outputs": [
    {
     "name": "stdout",
     "output_type": "stream",
     "text": [
      "Findings\n",
      "-----------------------------\n",
      "\n",
      "     Se usaron varias librerias que ayudaron mucho al proceso de     obtener todos los datos necesarios para este laboratorio,     especialmente el sklearn y matplotlib.     \n",
      "     El modelo de regresion lineal no fue lo que se esperaba.     Este modelo presento varios problemas, lo que se puede ver en     el valor del coeficiente de correlacion R2 con un valor del 0.49.     Ni siquiera pudo predecir la mitad con cierta exactitud. Este proceso     ya se habia realizado antes, para la clase de Mineria de datos.     Sin embargo, aunque se realizo el mismo proceso para las dos materias,     el R2 para la clase mencionada fue de 0.84. Un R2 mucho mejor que este.     \n",
      "Grafico 1: Una nube de puntos graficada junto a una regresion lineal con     su pendiente correspondiente.     \n",
      "Grafico 2: Una nube de puntos graficada junto a la tendencia del modelo     que se entreno. Entre mas bajo el valor, la prediccion funciona. Sin embargo,     una vez se sale de los valores mas bajos, el modelo empieza a predecir     valores demasiado distantes a los valores reales.     \n",
      "     No estoy de acuerdo con el mejor grado de polinomio, debido a que este     se obtuvo de manera manual tambien antes de utilizar argmin.     Como mencione en un comentario casi en las ultimas partes dentro     del codigo, un grado mayor se adapta mejor a los datos existentes, pero     no significa que con nuevos datos se vaya a comportar igual. Al     obtenerlo de manera manual, se observo que aunque el 6 se adaptaba mejor,     un grado 4 era el que probablemente era mejor para el dataset existente,     y para datos futuros ingresados. Se cree que muchos datos outliers     afectaron los resultados y predicciones. Si conozco como remover estos     datos, pero no sabia si para este laboratorio era apropiado hacerlo.     Talvez otras variables que afectan al precio pudieron ser usadas para     lograr una mejor prediccion.\n"
     ]
    }
   ],
   "source": [
    "print(\"Findings\")\n",
    "print(\"-----------------------------\")\n",
    "print(\"\\n     Se usaron varias librerias que ayudaron mucho al proceso de \\\n",
    "    obtener todos los datos necesarios para este laboratorio, \\\n",
    "    especialmente el sklearn y matplotlib. \\\n",
    "    \\n     El modelo de regresion lineal no fue lo que se esperaba. \\\n",
    "    Este modelo presento varios problemas, lo que se puede ver en \\\n",
    "    el valor del coeficiente de correlacion R2 con un valor del 0.49. \\\n",
    "    Ni siquiera pudo predecir la mitad con cierta exactitud. Este proceso \\\n",
    "    ya se habia realizado antes, para la clase de Mineria de datos. \\\n",
    "    Sin embargo, aunque se realizo el mismo proceso para las dos materias, \\\n",
    "    el R2 para la clase mencionada fue de 0.84. Un R2 mucho mejor que este. \\\n",
    "    \\nGrafico 1: Una nube de puntos graficada junto a una regresion lineal con \\\n",
    "    su pendiente correspondiente. \\\n",
    "    \\nGrafico 2: Una nube de puntos graficada junto a la tendencia del modelo \\\n",
    "    que se entreno. Entre mas bajo el valor, la prediccion funciona. Sin embargo, \\\n",
    "    una vez se sale de los valores mas bajos, el modelo empieza a predecir \\\n",
    "    valores demasiado distantes a los valores reales. \\\n",
    "    \\n     No estoy de acuerdo con el mejor grado de polinomio, debido a que este \\\n",
    "    se obtuvo de manera manual tambien antes de utilizar argmin. \\\n",
    "    Como mencione en un comentario casi en las ultimas partes dentro \\\n",
    "    del codigo, un grado mayor se adapta mejor a los datos existentes, pero \\\n",
    "    no significa que con nuevos datos se vaya a comportar igual. Al \\\n",
    "    obtenerlo de manera manual, se observo que aunque el 6 se adaptaba mejor, \\\n",
    "    un grado 4 era el que probablemente era mejor para el dataset existente, \\\n",
    "    y para datos futuros ingresados. Se cree que muchos datos outliers \\\n",
    "    afectaron los resultados y predicciones. Si conozco como remover estos \\\n",
    "    datos, pero no sabia si para este laboratorio era apropiado hacerlo. \\\n",
    "    Talvez otras variables que afectan al precio pudieron ser usadas para \\\n",
    "    lograr una mejor prediccion.\")"
   ]
  },
  {
   "cell_type": "code",
   "execution_count": null,
   "id": "42ca6d09",
   "metadata": {},
   "outputs": [],
   "source": []
  }
 ],
 "metadata": {
  "kernelspec": {
   "display_name": "Python 3 (ipykernel)",
   "language": "python",
   "name": "python3"
  },
  "language_info": {
   "codemirror_mode": {
    "name": "ipython",
    "version": 3
   },
   "file_extension": ".py",
   "mimetype": "text/x-python",
   "name": "python",
   "nbconvert_exporter": "python",
   "pygments_lexer": "ipython3",
   "version": "3.10.5"
  }
 },
 "nbformat": 4,
 "nbformat_minor": 5
}
